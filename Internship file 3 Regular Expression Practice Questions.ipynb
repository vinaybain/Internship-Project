{
 "cells": [
  {
   "cell_type": "markdown",
   "id": "9abd5af4",
   "metadata": {},
   "source": [
    "# Question 1- \n",
    "Write a Python program to replace all occurrences of a space, comma, or dot with a colon.\n",
    "\n",
    "Sample Text- 'Python Exercises, PHP exercises.'\n",
    "\n",
    "Expected Output: Python:Exercises::PHP:exercises:\n"
   ]
  },
  {
   "cell_type": "code",
   "execution_count": 1,
   "id": "31cfd69c",
   "metadata": {},
   "outputs": [
    {
     "name": "stdout",
     "output_type": "stream",
     "text": [
      "Python:Exercises::PHP:exercises:\n"
     ]
    }
   ],
   "source": [
    "import re\n",
    "\n",
    "sample_text = 'Python Exercises, PHP exercises.'\n",
    "\n",
    "# Define the regular expression pattern to match space, comma, or dot\n",
    "pattern = r'[ ,.]'\n",
    "\n",
    "# Replace all occurrences of space, comma, or dot with a colon\n",
    "result = re.sub(pattern, ':', sample_text)\n",
    "\n",
    "print(result)"
   ]
  },
  {
   "cell_type": "markdown",
   "id": "58b734a0",
   "metadata": {},
   "source": [
    "# Question 2-  \n",
    "Create a dataframe using the dictionary below and remove everything (commas (,), !, XXXX, ;, etc.) from the columns except words.\n",
    "\n",
    "Dictionary- {'SUMMARY' : ['hello, world!', 'XXXXX test', '123four, five:; six...']}\n",
    " "
   ]
  },
  {
   "cell_type": "code",
   "execution_count": 2,
   "id": "c719bb45",
   "metadata": {},
   "outputs": [
    {
     "name": "stdout",
     "output_type": "stream",
     "text": [
      "            SUMMARY\n",
      "0       hello world\n",
      "1        XXXXX test\n",
      "2  123four five six\n"
     ]
    }
   ],
   "source": [
    "import pandas as pd\n",
    "import re\n",
    "\n",
    "# Given dictionary\n",
    "data = {'SUMMARY': ['hello, world!', 'XXXXX test', '123four, five:; six...']}\n",
    "\n",
    "# Create a DataFrame from the dictionary\n",
    "df = pd.DataFrame(data)\n",
    "\n",
    "# Remove non-word characters from the 'SUMMARY' column using regular expressions\n",
    "df['SUMMARY'] = df['SUMMARY'].apply(lambda x: re.sub(r'[^\\w\\s]', '', x))\n",
    "\n",
    "print(df)"
   ]
  },
  {
   "cell_type": "markdown",
   "id": "77284a77",
   "metadata": {},
   "source": [
    "# Question 3- \n",
    "Create a function in python to find all words that are at least 4 characters long in a string. The use of the re.compile() method is mandatory."
   ]
  },
  {
   "cell_type": "code",
   "execution_count": 8,
   "id": "de25982c",
   "metadata": {},
   "outputs": [
    {
     "name": "stdout",
     "output_type": "stream",
     "text": [
      "['This', 'sample', 'string', 'with', 'words', 'varying', 'lengths', 'such', 'hello', 'world', 'Python', 'programming']\n"
     ]
    }
   ],
   "source": [
    "import re\n",
    "\n",
    "def find_long_words(text):\n",
    "    # Compile the regex pattern to match words of at least 4 characters\n",
    "    pattern = re.compile(r'\\b\\w{4,}\\b')\n",
    "    # Use findall to find all matches\n",
    "    long_words = pattern.findall(text)\n",
    "    return long_words\n",
    "\n",
    "# Test the function\n",
    "text = \"This is a sample string with words of varying lengths such as hello, world, Python, and programming.\"\n",
    "result = find_long_words(text)\n",
    "print(result)"
   ]
  },
  {
   "cell_type": "markdown",
   "id": "0ac34986",
   "metadata": {},
   "source": [
    "# Question 4- \n",
    "Create a function in python to find all three, four, and five character words in a string. The use of the re.compile() method is mandatory."
   ]
  },
  {
   "cell_type": "code",
   "execution_count": 9,
   "id": "95bdd583",
   "metadata": {},
   "outputs": [
    {
     "name": "stdout",
     "output_type": "stream",
     "text": [
      "['This', 'with', 'words', 'such', 'hello', 'world', 'and']\n"
     ]
    }
   ],
   "source": [
    "import re\n",
    "\n",
    "def find_words(text):\n",
    "    # Compile the regex pattern to match three, four, and five-character words\n",
    "    pattern = re.compile(r'\\b\\w{3,5}\\b')\n",
    "    # Use findall to find all matches\n",
    "    words = pattern.findall(text)\n",
    "    return words\n",
    "\n",
    "# Test the function\n",
    "text = \"This is a sample string with words of varying lengths such as hello, world, Python, and programming.\"\n",
    "result = find_words(text)\n",
    "print(result)"
   ]
  },
  {
   "cell_type": "markdown",
   "id": "2b97dbbd",
   "metadata": {},
   "source": [
    "# Question 5- \n",
    "Create a function in Python to remove the parenthesis in a list of strings. The use of the re.compile() method is mandatory.\n",
    "\n",
    "Sample Text: [\"example (.com)\", \"hr@fliprobo (.com)\", \"github (.com)\", \"Hello (Data Science World)\", \"Data (Scientist)\"]\n",
    " "
   ]
  },
  {
   "cell_type": "code",
   "execution_count": 10,
   "id": "0fc62d5f",
   "metadata": {},
   "outputs": [
    {
     "name": "stdout",
     "output_type": "stream",
     "text": [
      "['example .com', 'hr@fliprobo .com', 'github .com', 'Hello Data Science World', 'Data Scientist']\n"
     ]
    }
   ],
   "source": [
    "import re\n",
    "\n",
    "def remove_parentheses(strings):\n",
    "    # Compile the regex pattern to match parentheses\n",
    "    pattern = re.compile(r'[()]')\n",
    "\n",
    "    # Remove parentheses from each string in the list\n",
    "    cleaned_strings = [pattern.sub('', s) for s in strings]\n",
    "\n",
    "    return cleaned_strings\n",
    "\n",
    "# Sample Text\n",
    "sample_text = [\"example (.com)\", \"hr@fliprobo (.com)\", \"github (.com)\", \"Hello (Data Science World)\", \"Data (Scientist)\"]\n",
    "\n",
    "# Remove parentheses from the list of strings\n",
    "result = remove_parentheses(sample_text)\n",
    "print(result)"
   ]
  },
  {
   "cell_type": "markdown",
   "id": "3e0d5930",
   "metadata": {},
   "source": [
    "# Question 6- \n",
    "Write a python program to remove the parenthesis area from the text stored in the text file using Regular Expression.\n",
    "\n",
    "Sample Text: [\"example (.com)\", \"hr@fliprobo (.com)\", \"github (.com)\", \"Hello (Data Science World)\", \"Data (Scientist)\"]\n",
    "\n",
    "Expected Output: [\"example\", \"hr@fliprobo\", \"github\", \"Hello\", \"Data\"]\n",
    "\n",
    "Note- Store given sample text in the text file and then to remove the parenthesis area from the text.\n"
   ]
  },
  {
   "cell_type": "code",
   "execution_count": 11,
   "id": "7d7f5c8f",
   "metadata": {},
   "outputs": [],
   "source": [
    "import re\n",
    "\n",
    "def remove_parentheses_from_file(file_path):\n",
    "    # Read the text from the file\n",
    "    with open(file_path, 'r') as file:\n",
    "        text = file.read()\n",
    "\n",
    "    # Compile the regex pattern to match parentheses and their contents\n",
    "    pattern = re.compile(r'\\([^)]*\\)')\n",
    "\n",
    "    # Remove parentheses area from the text\n",
    "    cleaned_text = pattern.sub('', text)\n",
    "\n",
    "    # Write the cleaned text back to the file\n",
    "    with open(file_path, 'w') as file:\n",
    "        file.write(cleaned_text)\n",
    "\n",
    "# Define the file path\n",
    "file_path = 'sample_text.txt'\n",
    "\n",
    "# Sample Text\n",
    "sample_text = '[\"example (.com)\", \"hr@fliprobo (.com)\", \"github (.com)\", \"Hello (Data Science World)\", \"Data (Scientist)\"]'\n",
    "\n",
    "# Write the sample text to the file\n",
    "with open(file_path, 'w') as file:\n",
    "    file.write(sample_text)\n",
    "\n",
    "# Remove parentheses area from the text file\n",
    "remove_parentheses_from_file(file_path)"
   ]
  },
  {
   "cell_type": "markdown",
   "id": "40a34c4e",
   "metadata": {},
   "source": [
    "# Question 7- \n",
    "\n",
    "Write a regular expression in Python to split a string into uppercase letters.\n",
    "\n",
    "Sample text: “ImportanceOfRegularExpressionsInPython”\n",
    "\n",
    "Expected Output: [‘Importance’, ‘Of’, ‘Regular’, ‘Expression’, ‘In’, ‘Python’]\n"
   ]
  },
  {
   "cell_type": "code",
   "execution_count": 12,
   "id": "90556a70",
   "metadata": {},
   "outputs": [
    {
     "name": "stdout",
     "output_type": "stream",
     "text": [
      "['Importance', 'Of', 'Regular', 'Expressions', 'In', 'Python']\n"
     ]
    }
   ],
   "source": [
    "import re\n",
    "\n",
    "sample_text = \"ImportanceOfRegularExpressionsInPython\"\n",
    "\n",
    "# Split the string into uppercase letters using regular expression\n",
    "result = re.findall('[A-Z][^A-Z]*', sample_text)\n",
    "\n",
    "print(result)"
   ]
  },
  {
   "cell_type": "markdown",
   "id": "d8a26531",
   "metadata": {},
   "source": [
    "# Question 8- \n",
    "Create a function in python to insert spaces between words starting with numbers.\n",
    "\n",
    "Sample Text: “RegularExpression1IsAn2ImportantTopic3InPython\"\n",
    "\n",
    "Expected Output: RegularExpression 1IsAn 2ImportantTopic 3InPython\n"
   ]
  },
  {
   "cell_type": "code",
   "execution_count": 15,
   "id": "fe2939a9",
   "metadata": {},
   "outputs": [
    {
     "name": "stdout",
     "output_type": "stream",
     "text": [
      "RegularExpression 1IsAn 2ImportantTopic 3InPython\n"
     ]
    }
   ],
   "source": [
    "def numbers_spaces(str1):\n",
    "    return re.sub(r\"(\\w)([0-9])\", r\"\\1 \\2\", str1)\n",
    "print(numbers_spaces(\"RegularExpression1IsAn2ImportantTopic3InPython\"))"
   ]
  },
  {
   "cell_type": "markdown",
   "id": "497f824b",
   "metadata": {},
   "source": [
    "# Question 9- \n",
    "\n",
    "Create a function in python to insert spaces between words starting with capital letters or with numbers.\n",
    "\n",
    "Sample Text: “RegularExpression1IsAn2ImportantTopic3InPython\"\n",
    "\n",
    "Expected Output:  Regular Expression 1 IsAn 2 ImportantTopic 3 InPython\n"
   ]
  },
  {
   "cell_type": "code",
   "execution_count": 22,
   "id": "675ac9ff",
   "metadata": {},
   "outputs": [
    {
     "name": "stdout",
     "output_type": "stream",
     "text": [
      "Regular Expression 1 Is An 2 Important Topic 3 In Python\n"
     ]
    }
   ],
   "source": [
    "def Insert_space(string):\n",
    "    words = re.findall(r\"[0-9]|[A-Z][a-z]*\", string)\n",
    "    print(' '.join(words))  \n",
    "    \n",
    "Insert_space(\"RegularExpression1IsAn2ImportantTopic3InPython\")"
   ]
  },
  {
   "cell_type": "markdown",
   "id": "6f3c05bd",
   "metadata": {},
   "source": [
    "# Question 10- \n",
    "Use the github link below to read the data and create a dataframe. After creating the dataframe extract the first 6 letters of each country and store in the dataframe under a new column called first_five_letters.\n",
    "\n",
    "Github Link-  https://raw.githubusercontent.com/dsrscientist/DSData/master/happiness_score_dataset.csv\n"
   ]
  },
  {
   "cell_type": "code",
   "execution_count": 23,
   "id": "d953f304",
   "metadata": {},
   "outputs": [
    {
     "name": "stdout",
     "output_type": "stream",
     "text": [
      "       Country          Region  Happiness Rank  Happiness Score  \\\n",
      "0  Switzerland  Western Europe               1            7.587   \n",
      "1      Iceland  Western Europe               2            7.561   \n",
      "2      Denmark  Western Europe               3            7.527   \n",
      "3       Norway  Western Europe               4            7.522   \n",
      "4       Canada   North America               5            7.427   \n",
      "\n",
      "   Standard Error  Economy (GDP per Capita)   Family  \\\n",
      "0         0.03411                   1.39651  1.34951   \n",
      "1         0.04884                   1.30232  1.40223   \n",
      "2         0.03328                   1.32548  1.36058   \n",
      "3         0.03880                   1.45900  1.33095   \n",
      "4         0.03553                   1.32629  1.32261   \n",
      "\n",
      "   Health (Life Expectancy)  Freedom  Trust (Government Corruption)  \\\n",
      "0                   0.94143  0.66557                        0.41978   \n",
      "1                   0.94784  0.62877                        0.14145   \n",
      "2                   0.87464  0.64938                        0.48357   \n",
      "3                   0.88521  0.66973                        0.36503   \n",
      "4                   0.90563  0.63297                        0.32957   \n",
      "\n",
      "   Generosity  Dystopia Residual first_five_letters  \n",
      "0     0.29678            2.51738             Switze  \n",
      "1     0.43630            2.70201             Icelan  \n",
      "2     0.34139            2.49204             Denmar  \n",
      "3     0.34699            2.46531             Norway  \n",
      "4     0.45811            2.45176             Canada  \n"
     ]
    }
   ],
   "source": [
    "import pandas as pd\n",
    "\n",
    "# Read the data from the CSV file\n",
    "url = \"https://raw.githubusercontent.com/dsrscientist/DSData/master/happiness_score_dataset.csv\"\n",
    "df = pd.read_csv(url)\n",
    "\n",
    "# Extract the first 6 letters of each country and store in a new column\n",
    "df['first_five_letters'] = df['Country'].str[:6]\n",
    "\n",
    "# Display the DataFrame\n",
    "print(df.head())"
   ]
  },
  {
   "cell_type": "markdown",
   "id": "0a3c1821",
   "metadata": {},
   "source": [
    "# Question 11- \n",
    "Write a Python program to match a string that contains only upper and lowercase letters, numbers, and underscores."
   ]
  },
  {
   "cell_type": "code",
   "execution_count": 68,
   "id": "d5826714",
   "metadata": {},
   "outputs": [
    {
     "name": "stdout",
     "output_type": "stream",
     "text": [
      "True\n",
      "False\n",
      "True\n",
      "True\n"
     ]
    }
   ],
   "source": [
    "import re\n",
    "\n",
    "def match_string(input_string):\n",
    "    # Define the regular expression pattern\n",
    "    pattern = re.compile(r'^[a-zA-Z0-9_]+$')\n",
    "\n",
    "    # Match the input string against the pattern\n",
    "    if pattern.match(input_string):\n",
    "        return True\n",
    "    else:\n",
    "        return False\n",
    "\n",
    "# Test the function\n",
    "test_string1 = \"Hello_World123\"\n",
    "test_string2 = \"Hello World!\"\n",
    "test_string3 = \"12345\"\n",
    "test_string4 = \"hello_world\"\n",
    "\n",
    "print(match_string(test_string1))  \n",
    "print(match_string(test_string2))  \n",
    "print(match_string(test_string3))  \n",
    "print(match_string(test_string4)) "
   ]
  },
  {
   "cell_type": "markdown",
   "id": "4854852d",
   "metadata": {},
   "source": [
    "# Question 12- \n",
    "Write a Python program where a string will start with a specific number. "
   ]
  },
  {
   "cell_type": "code",
   "execution_count": 69,
   "id": "597472a0",
   "metadata": {},
   "outputs": [
    {
     "name": "stdout",
     "output_type": "stream",
     "text": [
      "True\n",
      "False\n",
      "False\n",
      "False\n"
     ]
    }
   ],
   "source": [
    "import re\n",
    "\n",
    "def starts_with_number(input_string, number):\n",
    "    # Define the regular expression pattern\n",
    "    pattern = re.compile(r'^' + str(number))\n",
    "\n",
    "    # Match the input string against the pattern\n",
    "    if pattern.match(input_string):\n",
    "        return True\n",
    "    else:\n",
    "        return False\n",
    "\n",
    "# Test the function\n",
    "test_string1 = \"12345Hello\"\n",
    "test_string2 = \"Hello12345\"\n",
    "test_string3 = \"45678World\"\n",
    "test_string4 = \"789World\"\n",
    "\n",
    "number_to_check = 12345\n",
    "\n",
    "print(starts_with_number(test_string1, number_to_check))  \n",
    "print(starts_with_number(test_string2, number_to_check))  \n",
    "print(starts_with_number(test_string3, number_to_check))  \n",
    "print(starts_with_number(test_string4, number_to_check))  "
   ]
  },
  {
   "cell_type": "markdown",
   "id": "4bb6317c",
   "metadata": {},
   "source": [
    "# Question 13- \n",
    "Write a Python program to remove leading zeros from an IP address"
   ]
  },
  {
   "cell_type": "code",
   "execution_count": 70,
   "id": "6be311d5",
   "metadata": {},
   "outputs": [
    {
     "name": "stdout",
     "output_type": "stream",
     "text": [
      "192.168.1.1\n"
     ]
    }
   ],
   "source": [
    "ip = \"192.168.001.001\" \n",
    "string = re.sub('\\.[0]*', '.', ip) \n",
    "print(string)"
   ]
  },
  {
   "cell_type": "markdown",
   "id": "5e4e1f10",
   "metadata": {},
   "source": [
    "# Question 14- \n",
    "Write a regular expression in python to match a date string in the form of Month name followed by day number and year stored in a text file.\n",
    "\n",
    "Sample text :  ' On August 15th 1947 that India was declared independent from British colonialism, and the reins of control were handed over to the leaders of the Country’.\n",
    "\n",
    "Expected Output- August 15th 1947\n",
    "\n",
    "Note- Store given sample text in the text file and then extract the date string asked format.\n"
   ]
  },
  {
   "cell_type": "code",
   "execution_count": 76,
   "id": "e4585a3f",
   "metadata": {},
   "outputs": [
    {
     "name": "stdout",
     "output_type": "stream",
     "text": [
      "August 15th 1947\n"
     ]
    }
   ],
   "source": [
    "import re\n",
    "\n",
    "def find_date(text):\n",
    "    pattern = re.compile(r'\\b(?:January|February|March|April|May|June|July|August|September|October|November|December)\\s+\\d{1,2}(?:st|nd|rd|th)?\\s+\\d{4}\\b')\n",
    "    match = pattern.search(text)\n",
    "    return match.group() if match else None\n",
    "\n",
    "# Sample text\n",
    "sample_text = 'On August 15th 1947 that India was declared independent from British colonialism, and the reins of control were handed over to the leaders of the Country.'\n",
    "\n",
    "# Find date in the text\n",
    "result = find_date(sample_text)\n",
    "print(result)"
   ]
  },
  {
   "cell_type": "markdown",
   "id": "bc0e6f9f",
   "metadata": {},
   "source": [
    "# Question 15- \n",
    "Write a Python program to search some literals strings in a string. \n",
    "\n",
    "Sample text : 'The quick brown fox jumps over the lazy dog.'\n",
    "\n",
    "Searched words : 'fox', 'dog', 'horse'\n"
   ]
  },
  {
   "cell_type": "code",
   "execution_count": 77,
   "id": "dd7919da",
   "metadata": {},
   "outputs": [
    {
     "name": "stdout",
     "output_type": "stream",
     "text": [
      "Found words: ['fox', 'dog']\n"
     ]
    }
   ],
   "source": [
    "def search_literals(text, searched_words):\n",
    "    found_words = []\n",
    "    for word in searched_words:\n",
    "        if word in text:\n",
    "            found_words.append(word)\n",
    "    return found_words\n",
    "\n",
    "# Sample text\n",
    "sample_text = 'The quick brown fox jumps over the lazy dog.'\n",
    "\n",
    "# Searched words\n",
    "searched_words = ['fox', 'dog', 'horse']\n",
    "\n",
    "# Search for the literals strings in the text\n",
    "found_words = search_literals(sample_text, searched_words)\n",
    "\n",
    "print(\"Found words:\", found_words)"
   ]
  },
  {
   "cell_type": "markdown",
   "id": "83eb2248",
   "metadata": {},
   "source": [
    "# Question 16- \n",
    "Write a Python program to search a literals string in a string and also find the location within the original string where the pattern occurs\n",
    "\n",
    "Sample text : 'The quick brown fox jumps over the lazy dog.'\n",
    "\n",
    "Searched words : 'fox'\n",
    " "
   ]
  },
  {
   "cell_type": "code",
   "execution_count": 78,
   "id": "93d91bb3",
   "metadata": {},
   "outputs": [
    {
     "name": "stdout",
     "output_type": "stream",
     "text": [
      "The word 'fox' is found at position 16 in the text.\n"
     ]
    }
   ],
   "source": [
    "def search_string_with_location(text, pattern):\n",
    "    location = text.find(pattern)\n",
    "    return location\n",
    "\n",
    "# Sample text\n",
    "sample_text = 'The quick brown fox jumps over the lazy dog.'\n",
    "\n",
    "# Searched word\n",
    "searched_word = 'fox'\n",
    "\n",
    "# Search for the word in the text and find its location\n",
    "location = search_string_with_location(sample_text, searched_word)\n",
    "\n",
    "if location != -1:\n",
    "    print(f\"The word '{searched_word}' is found at position {location} in the text.\")\n",
    "else:\n",
    "    print(f\"The word '{searched_word}' is not found in the text.\")"
   ]
  },
  {
   "cell_type": "markdown",
   "id": "8ff01a45",
   "metadata": {},
   "source": [
    "# Question 17- \n",
    "Write a Python program to find the substrings within a string.\n",
    "\n",
    "Sample text : 'Python exercises, PHP exercises, C# exercises'\n",
    "\n",
    "Pattern : 'exercises'.\n"
   ]
  },
  {
   "cell_type": "code",
   "execution_count": 79,
   "id": "099249ca",
   "metadata": {},
   "outputs": [
    {
     "name": "stdout",
     "output_type": "stream",
     "text": [
      "Substrings found: ['exercises', 'exercises', 'exercises']\n"
     ]
    }
   ],
   "source": [
    "import re\n",
    "\n",
    "def find_substrings(text, pattern):\n",
    "    substrings = re.findall(pattern, text)\n",
    "    return substrings\n",
    "\n",
    "# Sample text\n",
    "sample_text = 'Python exercises, PHP exercises, C# exercises'\n",
    "\n",
    "# Pattern\n",
    "pattern = 'exercises'\n",
    "\n",
    "# Find all occurrences of the pattern within the text\n",
    "result = find_substrings(sample_text, pattern)\n",
    "\n",
    "print(\"Substrings found:\", result)"
   ]
  },
  {
   "cell_type": "markdown",
   "id": "306a3970",
   "metadata": {},
   "source": [
    "# Question 18- \n",
    "Write a Python program to find the occurrence and position of the substrings within a string."
   ]
  },
  {
   "cell_type": "code",
   "execution_count": 80,
   "id": "cc9403b2",
   "metadata": {},
   "outputs": [
    {
     "name": "stdout",
     "output_type": "stream",
     "text": [
      "Found \"exercises\" at 7:16\n",
      "Found \"exercises\" at 22:31\n",
      "Found \"exercises\" at 36:45\n"
     ]
    }
   ],
   "source": [
    "text = 'Python exercises, PHP exercises, C# exercises'\n",
    "pattern = 'exercises' \n",
    "for match in re.finditer(pattern, text):\n",
    "    s = match.start()\n",
    "    e = match.end()\n",
    "    print('Found \"%s\" at %d:%d' % (text[s:e], s, e))"
   ]
  },
  {
   "cell_type": "markdown",
   "id": "570f1f89",
   "metadata": {},
   "source": [
    "# Question 19- \n",
    "Write a Python program to convert a date of yyyy-mm-dd format to dd-mm-yyyy format."
   ]
  },
  {
   "cell_type": "code",
   "execution_count": 82,
   "id": "49b80c78",
   "metadata": {},
   "outputs": [
    {
     "name": "stdout",
     "output_type": "stream",
     "text": [
      "Original date: 2024-04-05\n",
      "Converted date: 05-04-2024\n"
     ]
    }
   ],
   "source": [
    "from datetime import datetime\n",
    "\n",
    "def convert_date_format(date_string):\n",
    "    # Parse the date string\n",
    "    date_object = datetime.strptime(date_string, '%Y-%m-%d')\n",
    "    # Format the date in dd-mm-yyyy format\n",
    "    formatted_date = date_object.strftime('%d-%m-%Y')\n",
    "    return formatted_date\n",
    "\n",
    "# Sample date string in yyyy-mm-dd format\n",
    "date_string = '2024-04-05'\n",
    "\n",
    "# Convert the date format\n",
    "new_date_format = convert_date_format(date_string)\n",
    "\n",
    "print(\"Original date:\", date_string)\n",
    "print(\"Converted date:\", new_date_format)"
   ]
  },
  {
   "cell_type": "markdown",
   "id": "48b8c100",
   "metadata": {},
   "source": [
    "# Question 20- \n",
    "Create a function in python to find all decimal numbers with a precision of 1 or 2 in a string. The use of the re.compile() method is mandatory.\n",
    "\n",
    "Sample Text: \"01.12 0132.123 2.31875 145.8 3.01 27.25 0.25\"\n",
    "\n",
    "Expected Output: ['01.12', '145.8', '3.01', '27.25', '0.25']\n"
   ]
  },
  {
   "cell_type": "code",
   "execution_count": 83,
   "id": "6c17bd3f",
   "metadata": {},
   "outputs": [
    {
     "name": "stdout",
     "output_type": "stream",
     "text": [
      "Decimal numbers found: ['01.12', '145.8', '3.01', '27.25', '0.25']\n"
     ]
    }
   ],
   "source": [
    "import re\n",
    "\n",
    "def find_decimal_numbers(text):\n",
    "    pattern = re.compile(r'\\b\\d+\\.\\d{1,2}\\b')\n",
    "    decimal_numbers = pattern.findall(text)\n",
    "    return decimal_numbers\n",
    "\n",
    "# Sample Text\n",
    "sample_text = \"01.12 0132.123 2.31875 145.8 3.01 27.25 0.25\"\n",
    "\n",
    "# Find all decimal numbers with a precision of 1 or 2 in the text\n",
    "result = find_decimal_numbers(sample_text)\n",
    "\n",
    "print(\"Decimal numbers found:\", result)"
   ]
  },
  {
   "cell_type": "markdown",
   "id": "888c8787",
   "metadata": {},
   "source": [
    "# Question 21- \n",
    "Write a Python program to separate and print the numbers and their position of a given string. "
   ]
  },
  {
   "cell_type": "code",
   "execution_count": 85,
   "id": "0e68f7a7",
   "metadata": {},
   "outputs": [
    {
     "name": "stdout",
     "output_type": "stream",
     "text": [
      "50\n",
      "Index position: 62\n",
      "4\n",
      "Index position: 75\n"
     ]
    }
   ],
   "source": [
    "text = \"The following example creates an ArrayList with a capacity of 50 elements. 4 elements\" \n",
    "for m in re.finditer(\"\\d+\", text):\n",
    "    print(m.group(0))\n",
    "    print(\"Index position:\", m.start())"
   ]
  },
  {
   "cell_type": "markdown",
   "id": "ca932864",
   "metadata": {},
   "source": [
    "# Question 22- \n",
    "Write a regular expression in python program to extract maximum/largest numeric value from a string.\n",
    "\n",
    "Sample Text:  'My marks in each semester are: 947, 896, 926, 524, 734, 950, 642'\n",
    "\n",
    "Expected Output: 950\n"
   ]
  },
  {
   "cell_type": "code",
   "execution_count": 86,
   "id": "097ac39a",
   "metadata": {},
   "outputs": [
    {
     "name": "stdout",
     "output_type": "stream",
     "text": [
      "Maximum numeric value: 950\n"
     ]
    }
   ],
   "source": [
    "import re\n",
    "\n",
    "def extract_max_numeric_value(text):\n",
    "    numbers = [int(num) for num in re.findall(r'\\d+', text)]\n",
    "    if numbers:\n",
    "        max_value = max(numbers)\n",
    "        return max_value\n",
    "    else:\n",
    "        return None\n",
    "\n",
    "# Sample Text\n",
    "sample_text = 'My marks in each semester are: 947, 896, 926, 524, 734, 950, 642'\n",
    "\n",
    "# Extract the maximum numeric value from the text\n",
    "max_value = extract_max_numeric_value(sample_text)\n",
    "\n",
    "print(\"Maximum numeric value:\", max_value)"
   ]
  },
  {
   "cell_type": "markdown",
   "id": "e3cb6f3f",
   "metadata": {},
   "source": [
    "# Question 23- \n",
    "Create a function in python to insert spaces between words starting with capital letters.\n",
    "\n",
    "Sample Text: “RegularExpressionIsAnImportantTopicInPython\"\n",
    "\n",
    "Expected Output: Regular Expression Is An Important Topic In Python\n"
   ]
  },
  {
   "cell_type": "code",
   "execution_count": 87,
   "id": "2b473f9a",
   "metadata": {},
   "outputs": [
    {
     "name": "stdout",
     "output_type": "stream",
     "text": [
      "Regular Expression Is An Important Topic In Python\n"
     ]
    }
   ],
   "source": [
    "def Insert_space(string):\n",
    "    words = re.findall(r\"[A-Z][a-z]*\", string)\n",
    "    print(' '.join(words))  \n",
    "    \n",
    "Insert_space(\"RegularExpression1IsAn2ImportantTopic3InPython\")"
   ]
  },
  {
   "cell_type": "markdown",
   "id": "4cfb538e",
   "metadata": {},
   "source": [
    "# Question 24- \n",
    "Python regex to find sequences of one upper case letter followed by lower case letters"
   ]
  },
  {
   "cell_type": "code",
   "execution_count": 88,
   "id": "a13b55a0",
   "metadata": {},
   "outputs": [
    {
     "name": "stdout",
     "output_type": "stream",
     "text": [
      "Sequences found: ['This', 'Sample', 'Text', 'Sequences', 'Upper', 'Case', 'Lower', 'Case', 'Mixed', 'Case']\n"
     ]
    }
   ],
   "source": [
    "import re\n",
    "\n",
    "def find_uppercase_lowercase_sequences(text):\n",
    "    pattern = re.compile(r'[A-Z][a-z]+')\n",
    "    sequences = pattern.findall(text)\n",
    "    return sequences\n",
    "\n",
    "# Sample Text\n",
    "sample_text = \"This is a Sample Text with Sequences like UpperCase, LowerCase, and MixedCase.\"\n",
    "\n",
    "# Find sequences of one uppercase letter followed by lowercase letters\n",
    "result = find_uppercase_lowercase_sequences(sample_text)\n",
    "\n",
    "print(\"Sequences found:\", result)"
   ]
  },
  {
   "cell_type": "markdown",
   "id": "b0ac3aee",
   "metadata": {},
   "source": [
    "# Question 25- \n",
    "Write a Python program to remove continuous duplicate words from Sentence using Regular Expression.\n",
    "\n",
    "Sample Text: \"Hello hello world world\"\n",
    "\n",
    "Expected Output: Hello hello world\n"
   ]
  },
  {
   "cell_type": "code",
   "execution_count": 89,
   "id": "3c9ddd9d",
   "metadata": {},
   "outputs": [
    {
     "name": "stdout",
     "output_type": "stream",
     "text": [
      "Original Sentence: Hello hello world world\n",
      "Sentence with continuous duplicate words removed: Hello world\n"
     ]
    }
   ],
   "source": [
    "import re\n",
    "\n",
    "def remove_continuous_duplicates(sentence):\n",
    "    # Use regular expression to find continuous duplicate words\n",
    "    pattern = re.compile(r'\\b(\\w+)(\\s+\\1\\b)+', re.IGNORECASE)\n",
    "    # Replace continuous duplicate words with a single occurrence\n",
    "    cleaned_sentence = pattern.sub(r'\\1', sentence)\n",
    "    return cleaned_sentence\n",
    "\n",
    "# Sample Text\n",
    "sample_text = \"Hello hello world world\"\n",
    "\n",
    "# Remove continuous duplicate words from the sentence\n",
    "cleaned_text = remove_continuous_duplicates(sample_text)\n",
    "\n",
    "print(\"Original Sentence:\", sample_text)\n",
    "print(\"Sentence with continuous duplicate words removed:\", cleaned_text)"
   ]
  },
  {
   "cell_type": "markdown",
   "id": "7c1d88c4",
   "metadata": {},
   "source": [
    "# Question 26-  \n",
    "Write a python program using RegEx to accept string ending with alphanumeric character."
   ]
  },
  {
   "cell_type": "code",
   "execution_count": 90,
   "id": "b22c6451",
   "metadata": {},
   "outputs": [
    {
     "name": "stdout",
     "output_type": "stream",
     "text": [
      "String: abc123, Ends with alphanumeric character: True\n",
      "String: def456!, Ends with alphanumeric character: False\n",
      "String: ghi789?, Ends with alphanumeric character: False\n",
      "String: jklmno, Ends with alphanumeric character: True\n",
      "String: pqrst$, Ends with alphanumeric character: False\n"
     ]
    }
   ],
   "source": [
    "import re\n",
    "\n",
    "def ends_with_alphanumeric(string):\n",
    "    pattern = re.compile(r'\\w$')\n",
    "    match = pattern.search(string)\n",
    "    return bool(match)\n",
    "\n",
    "# Test cases\n",
    "test_strings = [\"abc123\", \"def456!\", \"ghi789?\", \"jklmno\", \"pqrst$\"]\n",
    "\n",
    "for string in test_strings:\n",
    "    print(f\"String: {string}, Ends with alphanumeric character: {ends_with_alphanumeric(string)}\")"
   ]
  },
  {
   "cell_type": "markdown",
   "id": "045a6b25",
   "metadata": {},
   "source": [
    "# Question 27-\n",
    "Write a python program using RegEx to extract the hashtags.\n",
    "\n",
    "Sample Text:  \"\"\"RT @kapil_kausik: #Doltiwal I mean #xyzabc is \"hurt\" by #Demonetization as the same has rendered USELESS <ed>\n",
    "<U+00A0><U+00BD><ed><U+00B1><U+0089> \"acquired funds\" No wo\"\"\"\n",
    "\n",
    "Expected Output: ['#Doltiwal', '#xyzabc', '#Demonetization']\n"
   ]
  },
  {
   "cell_type": "code",
   "execution_count": 91,
   "id": "f7f20f6a",
   "metadata": {},
   "outputs": [
    {
     "name": "stdout",
     "output_type": "stream",
     "text": [
      "Extracted Hashtags: ['#Doltiwal', '#xyzabc', '#Demonetization']\n"
     ]
    }
   ],
   "source": [
    "import re\n",
    "\n",
    "def extract_hashtags(text):\n",
    "    pattern = re.compile(r'#\\w+')\n",
    "    hashtags = pattern.findall(text)\n",
    "    return hashtags\n",
    "\n",
    "# Sample Text\n",
    "sample_text = \"\"\"RT @kapil_kausik: #Doltiwal I mean #xyzabc is \"hurt\" by #Demonetization as the same has rendered USELESS <ed><U+00A0><U+00BD><ed><U+00B1><U+0089> \"acquired funds\" No wo\"\"\"\n",
    "\n",
    "# Extract hashtags from the text\n",
    "hashtags = extract_hashtags(sample_text)\n",
    "\n",
    "print(\"Extracted Hashtags:\", hashtags)"
   ]
  },
  {
   "cell_type": "markdown",
   "id": "bcdd060d",
   "metadata": {},
   "source": [
    "# Question 28- \n",
    "Write a python program using RegEx to remove <U+..> like symbols\n",
    "Check the below sample text, there are strange symbols something of the sort <U+..> all over the place. You need to come up with a general Regex expression that will cover all such symbols.\n",
    "\n",
    "Sample Text: \"@Jags123456 Bharat band on 28??<ed><U+00A0><U+00BD><ed><U+00B8><U+0082>Those who  are protesting #demonetization  are all different party leaders\"\n",
    "\n",
    "    Expected Output: @Jags123456 Bharat band on 28??<ed><ed>Those who  are protesting #demonetization  are all different party leaders\n"
   ]
  },
  {
   "cell_type": "code",
   "execution_count": 92,
   "id": "f51b9fbb",
   "metadata": {},
   "outputs": [
    {
     "name": "stdout",
     "output_type": "stream",
     "text": [
      "Original Text: @Jags123456 Bharat band on 28??<ed><U+00A0><U+00BD><ed><U+00B8><U+0082>Those who  are protesting #demonetization  are all different party leaders\n",
      "Text with symbols removed: @Jags123456 Bharat band on 28??<ed><ed>Those who  are protesting #demonetization  are all different party leaders\n"
     ]
    }
   ],
   "source": [
    "import re\n",
    "\n",
    "def remove_unicode_symbols(text):\n",
    "    pattern = re.compile(r'<U\\+[0-9A-Fa-f]+>')\n",
    "    cleaned_text = pattern.sub('', text)\n",
    "    return cleaned_text\n",
    "\n",
    "# Sample Text\n",
    "sample_text = \"@Jags123456 Bharat band on 28??<ed><U+00A0><U+00BD><ed><U+00B8><U+0082>Those who  are protesting #demonetization  are all different party leaders\"\n",
    "\n",
    "# Remove <U+..> like symbols from the text\n",
    "cleaned_text = remove_unicode_symbols(sample_text)\n",
    "\n",
    "print(\"Original Text:\", sample_text)\n",
    "print(\"Text with symbols removed:\", cleaned_text)"
   ]
  },
  {
   "cell_type": "code",
   "execution_count": 93,
   "id": "fd47eb0a",
   "metadata": {},
   "outputs": [
    {
     "name": "stdout",
     "output_type": "stream",
     "text": [
      "Text before:\n",
      " @Jags123456 Bharat band on 28??<ed><U+00A0><U+00BD><ed><U+00B8><U+0082>Those who are protesting #demonetization  are all different party leaders\n",
      "\n",
      " Text after:\n",
      " @Jags123456 Bharat band on 28??<ed><ed>Those who are protesting #demonetization  are all different party leaders\n"
     ]
    }
   ],
   "source": [
    "text= \"@Jags123456 Bharat band on 28??<ed><U+00A0><U+00BD><ed><U+00B8><U+0082>Those who are protesting #demonetization  are all different party leaders\" \n",
    "clean_text = re.sub(r\"<U\\+[A-Z0-9]+>\", \"\", text)  \n",
    "print(\"Text before:\\n\", text) \n",
    "print(\"\\n Text after:\\n\", clean_text)"
   ]
  },
  {
   "cell_type": "markdown",
   "id": "8ca74317",
   "metadata": {},
   "source": [
    "# Question 29- \n",
    "Write a python program to extract dates from the text stored in the text file.\n",
    "\n",
    "Sample Text: Ron was born on 12-09-1992 and he was admitted to school 15-12-1999.\n",
    "\n",
    "Note- Store this sample text in the file and then extract dates.\n"
   ]
  },
  {
   "cell_type": "code",
   "execution_count": 102,
   "id": "e34e3d63",
   "metadata": {},
   "outputs": [
    {
     "name": "stdout",
     "output_type": "stream",
     "text": [
      "Dates extracted from the text: []\n"
     ]
    }
   ],
   "source": [
    "import re\n",
    "\n",
    "def extract_dates_from_text(file_path):\n",
    "    # Read text from the file\n",
    "    with open(file_path, 'r') as file:\n",
    "        text = file.read()\n",
    "\n",
    "    # Regular expression pattern to match dates in the format DD-MM-YYYY\n",
    "    pattern = re.compile(r'\\b\\d{2}-\\d{2}-\\d{4}\\b')\n",
    "\n",
    "    # Extract dates from the text\n",
    "    dates = pattern.findall(text)\n",
    "\n",
    "    return dates\n",
    "\n",
    "# File path containing the sample text\n",
    "file_path = 'sample_text.txt'\n",
    "\n",
    "Sample_text= \"Ron was born on 12-09-1992 and he was admitted to school 15-12-1999.\"\n",
    "\n",
    "# Extract dates from the text stored in the file\n",
    "dates = extract_dates_from_text(file_path)\n",
    "\n",
    "print(\"Dates extracted from the text:\", dates)"
   ]
  },
  {
   "cell_type": "markdown",
   "id": "dba2f073",
   "metadata": {},
   "source": [
    "# Question 30- \n",
    "Create a function in python to remove all words from a string of length between 2 and 4.\n",
    "The use of the re.compile() method is mandatory.\n",
    "\n",
    "Sample Text: \"The following example creates an ArrayList with a capacity of 50 elements. 4 elements are then added to the ArrayList and the ArrayList is trimmed accordingly.\"\n",
    "\n",
    "Expected Output:  following example creates ArrayList a capacity elements. 4 elements added ArrayList ArrayList trimmed accordingly.\n",
    " "
   ]
  },
  {
   "cell_type": "code",
   "execution_count": 103,
   "id": "8e18cbd9",
   "metadata": {},
   "outputs": [
    {
     "name": "stdout",
     "output_type": "stream",
     "text": [
      "Original Text: The following example creates an ArrayList with a capacity of 50 elements. 4 elements are then added to the ArrayList and the ArrayList is trimmed accordingly.\n",
      "Text with words removed:  following example creates  ArrayList  a capacity   elements. 4 elements   added   ArrayList   ArrayList  trimmed accordingly.\n"
     ]
    }
   ],
   "source": [
    "import re\n",
    "\n",
    "def remove_words_of_length_between_2_and_4(text):\n",
    "    pattern = re.compile(r'\\b\\w{2,4}\\b')\n",
    "    cleaned_text = pattern.sub('', text)\n",
    "    return cleaned_text\n",
    "\n",
    "# Sample Text\n",
    "sample_text = \"The following example creates an ArrayList with a capacity of 50 elements. 4 elements are then added to the ArrayList and the ArrayList is trimmed accordingly.\"\n",
    "\n",
    "# Remove words from the text with length between 2 and 4\n",
    "cleaned_text = remove_words_of_length_between_2_and_4(sample_text)\n",
    "\n",
    "print(\"Original Text:\", sample_text)\n",
    "print(\"Text with words removed:\", cleaned_text)"
   ]
  },
  {
   "cell_type": "code",
   "execution_count": null,
   "id": "31a1192a",
   "metadata": {},
   "outputs": [],
   "source": []
  }
 ],
 "metadata": {
  "kernelspec": {
   "display_name": "Python 3 (ipykernel)",
   "language": "python",
   "name": "python3"
  },
  "language_info": {
   "codemirror_mode": {
    "name": "ipython",
    "version": 3
   },
   "file_extension": ".py",
   "mimetype": "text/x-python",
   "name": "python",
   "nbconvert_exporter": "python",
   "pygments_lexer": "ipython3",
   "version": "3.11.4"
  }
 },
 "nbformat": 4,
 "nbformat_minor": 5
}
