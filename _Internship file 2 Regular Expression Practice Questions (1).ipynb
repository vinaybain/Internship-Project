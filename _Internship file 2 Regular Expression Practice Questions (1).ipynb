{
 "cells": [
  {
   "cell_type": "markdown",
   "id": "2e91e434",
   "metadata": {},
   "source": [
    "Question 1- Write a RegEx pattern in python program to check that a string contains only a certain set of characters (in this case a-z, A-Z and 0-9)."
   ]
  },
  {
   "cell_type": "code",
   "execution_count": 5,
   "id": "e466bb9f",
   "metadata": {},
   "outputs": [
    {
     "name": "stdout",
     "output_type": "stream",
     "text": [
      "<re.Match object; span=(0, 13), match='HelloWorld123'>\n",
      "None\n"
     ]
    }
   ],
   "source": [
    "import re\n",
    "\n",
    "def contains_only_allowed_chars(text):\n",
    "    pattern = r'^[a-zA-Z0-9]+$'\n",
    "    return(re.match(pattern, text))\n",
    "\n",
    "# Example usage:\n",
    "test_string = \"HelloWorld123\"\n",
    "print(contains_only_allowed_chars(test_string))  \n",
    "\n",
    "test_string = \"Hello@123\"\n",
    "print(contains_only_allowed_chars(test_string))"
   ]
  },
  {
   "cell_type": "markdown",
   "id": "48d6ff42",
   "metadata": {},
   "source": [
    "Question 2- Write a RegEx pattern that matches a string that has an a followed by zero or more b's"
   ]
  },
  {
   "cell_type": "code",
   "execution_count": 4,
   "id": "afe89a17",
   "metadata": {},
   "outputs": [
    {
     "name": "stdout",
     "output_type": "stream",
     "text": [
      "<re.Match object; span=(0, 1), match='a'>\n",
      "<re.Match object; span=(0, 2), match='ab'>\n",
      "<re.Match object; span=(0, 3), match='abb'>\n",
      "<re.Match object; span=(0, 1), match='a'>\n"
     ]
    }
   ],
   "source": [
    "import re\n",
    "\n",
    "def match_pattern(text):\n",
    "    pattern = r'ab*'\n",
    "    return(re.match(pattern, text))\n",
    "\n",
    "# Example usage:\n",
    "test_string1 = \"a\"\n",
    "print(match_pattern(test_string1))  \n",
    "\n",
    "test_string2 = \"ab\"\n",
    "print(match_pattern(test_string2))  \n",
    "\n",
    "test_string3 = \"abb\"\n",
    "print(match_pattern(test_string3))  \n",
    "\n",
    "test_string4 = \"ac\"\n",
    "print(match_pattern(test_string4)) "
   ]
  },
  {
   "cell_type": "markdown",
   "id": "57a6877e",
   "metadata": {},
   "source": [
    "Question 3-  Write a RegEx pattern that matches a string that has an a followed by one or more b's\n"
   ]
  },
  {
   "cell_type": "code",
   "execution_count": 8,
   "id": "ad26d421",
   "metadata": {},
   "outputs": [
    {
     "name": "stdout",
     "output_type": "stream",
     "text": [
      "<re.Match object; span=(0, 2), match='ab'>\n",
      "<re.Match object; span=(0, 3), match='abb'>\n",
      "None\n",
      "None\n"
     ]
    }
   ],
   "source": [
    "import re\n",
    "\n",
    "def match_pattern(text):\n",
    "    pattern = r'ab+'\n",
    "    return(re.match(pattern, text))\n",
    "\n",
    "# Example usage:\n",
    "test_string1 = \"ab\"\n",
    "print(match_pattern(test_string1)) \n",
    "\n",
    "test_string2 = \"abb\"\n",
    "print(match_pattern(test_string2))  \n",
    "\n",
    "test_string3 = \"a\"\n",
    "print(match_pattern(test_string3))  \n",
    "\n",
    "test_string4 = \"ac\"\n",
    "print(match_pattern(test_string4)) "
   ]
  },
  {
   "cell_type": "markdown",
   "id": "23583b10",
   "metadata": {},
   "source": [
    "Question 4- Write a RegEx pattern that matches a string that has an a followed by zero or one 'b'."
   ]
  },
  {
   "cell_type": "code",
   "execution_count": 9,
   "id": "5c1b3f03",
   "metadata": {},
   "outputs": [
    {
     "name": "stdout",
     "output_type": "stream",
     "text": [
      "<re.Match object; span=(0, 1), match='a'>\n",
      "<re.Match object; span=(0, 2), match='ab'>\n",
      "<re.Match object; span=(0, 2), match='ab'>\n",
      "<re.Match object; span=(0, 1), match='a'>\n"
     ]
    }
   ],
   "source": [
    "import re\n",
    "\n",
    "def match_pattern(text):\n",
    "    pattern = r'ab?'\n",
    "    return(re.match(pattern, text))\n",
    "\n",
    "# Example usage:\n",
    "test_string1 = \"a\"\n",
    "print(match_pattern(test_string1)) \n",
    "\n",
    "test_string2 = \"ab\"\n",
    "print(match_pattern(test_string2))\n",
    "\n",
    "test_string3 = \"abb\"\n",
    "print(match_pattern(test_string3)) \n",
    "\n",
    "test_string4 = \"ac\"\n",
    "print(match_pattern(test_string4))"
   ]
  },
  {
   "cell_type": "markdown",
   "id": "4e2230e2",
   "metadata": {},
   "source": [
    "Question 5- Write a RegEx pattern in python program that matches a string that has an a followed by three 'b'."
   ]
  },
  {
   "cell_type": "code",
   "execution_count": 10,
   "id": "2aa9f7ea",
   "metadata": {},
   "outputs": [
    {
     "name": "stdout",
     "output_type": "stream",
     "text": [
      "<re.Match object; span=(0, 4), match='abbb'>\n",
      "<re.Match object; span=(0, 4), match='abbb'>\n",
      "None\n",
      "None\n"
     ]
    }
   ],
   "source": [
    "import re\n",
    "\n",
    "def match_pattern(text):\n",
    "    pattern = r'ab{3}'\n",
    "    return(re.match(pattern, text))\n",
    "\n",
    "# Example usage:\n",
    "test_string1 = \"abbb\"\n",
    "print(match_pattern(test_string1))  \n",
    "\n",
    "test_string2 = \"abbbb\"\n",
    "print(match_pattern(test_string2))  \n",
    "\n",
    "test_string3 = \"abb\"\n",
    "print(match_pattern(test_string3))  \n",
    "\n",
    "test_string4 = \"ac\"\n",
    "print(match_pattern(test_string4)) "
   ]
  },
  {
   "cell_type": "markdown",
   "id": "0989818a",
   "metadata": {},
   "source": [
    "Question 6- Write a RegEx pattern in python program that matches a string that has an a followed by two to three 'b'.\n"
   ]
  },
  {
   "cell_type": "code",
   "execution_count": 12,
   "id": "a8b47a85",
   "metadata": {},
   "outputs": [
    {
     "name": "stdout",
     "output_type": "stream",
     "text": [
      "<re.Match object; span=(0, 3), match='abb'>\n",
      "<re.Match object; span=(0, 4), match='abbb'>\n",
      "<re.Match object; span=(0, 4), match='abbb'>\n",
      "None\n",
      "None\n",
      "None\n"
     ]
    }
   ],
   "source": [
    "import re\n",
    "\n",
    "def match_pattern(text):\n",
    "    pattern = r'ab{2,3}'\n",
    "    return(re.match(pattern, text))\n",
    "\n",
    "# Example usage:\n",
    "test_string1 = \"abb\"\n",
    "print(match_pattern(test_string1))  \n",
    "\n",
    "test_string2 = \"abbb\"\n",
    "print(match_pattern(test_string2))  \n",
    "\n",
    "test_string3 = \"abbbb\"\n",
    "print(match_pattern(test_string3))  \n",
    "\n",
    "test_string4 = \"ab\"\n",
    "print(match_pattern(test_string4))  \n",
    "\n",
    "test_string5 = \"a\"\n",
    "print(match_pattern(test_string5))  \n",
    "\n",
    "test_string6 = \"ac\"\n",
    "print(match_pattern(test_string6)) "
   ]
  },
  {
   "cell_type": "markdown",
   "id": "5427af29",
   "metadata": {},
   "source": [
    "Question 7- Write a Python program that matches a string that has an 'a' followed by anything, ending in 'b'."
   ]
  },
  {
   "cell_type": "code",
   "execution_count": 13,
   "id": "6cec78c7",
   "metadata": {},
   "outputs": [
    {
     "name": "stdout",
     "output_type": "stream",
     "text": [
      "<re.Match object; span=(0, 3), match='acb'>\n",
      "<re.Match object; span=(0, 2), match='ab'>\n",
      "<re.Match object; span=(0, 8), match='afoobarb'>\n",
      "None\n"
     ]
    }
   ],
   "source": [
    "import re\n",
    "\n",
    "def match_pattern(text):\n",
    "    pattern = r'a.*b$'\n",
    "    return(re.match(pattern, text))\n",
    "\n",
    "# Example usage:\n",
    "test_string1 = \"acb\"\n",
    "print(match_pattern(test_string1)) \n",
    "\n",
    "test_string2 = \"ab\"\n",
    "print(match_pattern(test_string2))  \n",
    "\n",
    "test_string3 = \"afoobarb\"\n",
    "print(match_pattern(test_string3))  \n",
    "\n",
    "test_string4 = \"abcdefg\"\n",
    "print(match_pattern(test_string4)) "
   ]
  },
  {
   "cell_type": "markdown",
   "id": "1a459a53",
   "metadata": {},
   "source": [
    "Question 8- Write a RegEx pattern in python program that matches a word at the beginning of a string."
   ]
  },
  {
   "cell_type": "code",
   "execution_count": 14,
   "id": "f1f9791d",
   "metadata": {},
   "outputs": [
    {
     "name": "stdout",
     "output_type": "stream",
     "text": [
      "<re.Match object; span=(0, 5), match='Hello'>\n",
      "<re.Match object; span=(0, 3), match='123'>\n",
      "None\n",
      "<re.Match object; span=(0, 5), match='Hello'>\n",
      "None\n"
     ]
    }
   ],
   "source": [
    "import re\n",
    "\n",
    "def match_pattern(text):\n",
    "    pattern = r'^\\w+'\n",
    "    return(re.match(pattern, text))\n",
    "\n",
    "# Example usage:\n",
    "test_string1 = \"Hello World\"\n",
    "print(match_pattern(test_string1))  \n",
    "\n",
    "test_string2 = \"123 Hello World\"\n",
    "print(match_pattern(test_string2))  \n",
    "\n",
    "test_string3 = \"!@# Hello World\"\n",
    "print(match_pattern(test_string3))  \n",
    "\n",
    "test_string4 = \"Hello\"\n",
    "print(match_pattern(test_string4))  \n",
    "\n",
    "test_string5 = \" World\"\n",
    "print(match_pattern(test_string5))"
   ]
  },
  {
   "cell_type": "markdown",
   "id": "3a39117b",
   "metadata": {},
   "source": [
    "Question 9- Write a RegEx pattern in python program that matches a word at the end of a string."
   ]
  },
  {
   "cell_type": "code",
   "execution_count": 15,
   "id": "ee6c24c7",
   "metadata": {},
   "outputs": [
    {
     "name": "stdout",
     "output_type": "stream",
     "text": [
      "<re.Match object; span=(6, 11), match='World'>\n",
      "<re.Match object; span=(12, 15), match='123'>\n",
      "None\n",
      "<re.Match object; span=(0, 5), match='Hello'>\n",
      "<re.Match object; span=(1, 6), match='World'>\n"
     ]
    }
   ],
   "source": [
    "import re\n",
    "\n",
    "def match_pattern(text):\n",
    "    pattern = r'\\w+$'\n",
    "    return(re.search(pattern, text))\n",
    "\n",
    "# Example usage:\n",
    "test_string1 = \"Hello World\"\n",
    "print(match_pattern(test_string1))  \n",
    "\n",
    "test_string2 = \"Hello World 123\"\n",
    "print(match_pattern(test_string2))  \n",
    "\n",
    "test_string3 = \"Hello World !@#\"\n",
    "print(match_pattern(test_string3))  \n",
    "\n",
    "test_string4 = \"Hello\"\n",
    "print(match_pattern(test_string4))  \n",
    "\n",
    "test_string5 = \" World\"\n",
    "print(match_pattern(test_string5)) "
   ]
  },
  {
   "cell_type": "markdown",
   "id": "80850278",
   "metadata": {},
   "source": [
    "Question 10- Write a RegEx pattern in python program to find all words that are 4 digits long in a string.\n",
    "Sample text- '01 0132 231875 1458 301 2725.'\n",
    "Expected output- ['0132', '1458', '2725']\n"
   ]
  },
  {
   "cell_type": "code",
   "execution_count": 17,
   "id": "4aadaef1",
   "metadata": {},
   "outputs": [
    {
     "name": "stdout",
     "output_type": "stream",
     "text": [
      "['0132', '1458', '2725']\n"
     ]
    }
   ],
   "source": [
    "import re\n",
    "\n",
    "def find_four_digit_words(text):\n",
    "    pattern = r'\\b\\d{4}\\b'\n",
    "    return re.findall(pattern, text)\n",
    "\n",
    "# Sample text\n",
    "sample_text = '01 0132 231875 1458 301 2725.'\n",
    "\n",
    "# Find all four-digit words\n",
    "four_digit_words = find_four_digit_words(sample_text)\n",
    "print(four_digit_words) "
   ]
  },
  {
   "cell_type": "code",
   "execution_count": null,
   "id": "97deeabe",
   "metadata": {},
   "outputs": [],
   "source": []
  }
 ],
 "metadata": {
  "kernelspec": {
   "display_name": "Python 3 (ipykernel)",
   "language": "python",
   "name": "python3"
  },
  "language_info": {
   "codemirror_mode": {
    "name": "ipython",
    "version": 3
   },
   "file_extension": ".py",
   "mimetype": "text/x-python",
   "name": "python",
   "nbconvert_exporter": "python",
   "pygments_lexer": "ipython3",
   "version": "3.11.4"
  }
 },
 "nbformat": 4,
 "nbformat_minor": 5
}
