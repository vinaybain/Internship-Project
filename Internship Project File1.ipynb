{
 "cells": [
  {
   "cell_type": "code",
   "execution_count": 1,
   "id": "ed750bf0",
   "metadata": {},
   "outputs": [
    {
     "name": "stdout",
     "output_type": "stream",
     "text": [
      "15\n"
     ]
    }
   ],
   "source": [
    "def func(a, b):\n",
    "    return b if a == 0 else func(b % a, a)\n",
    "\n",
    "print(func(30, 75))"
   ]
  },
  {
   "cell_type": "code",
   "execution_count": 2,
   "id": "23c9e855",
   "metadata": {},
   "outputs": [
    {
     "name": "stdout",
     "output_type": "stream",
     "text": [
      "<class 'filter'>\n"
     ]
    }
   ],
   "source": [
    "numbers = (4, 7, 19, 2, 89, 45, 72, 22)\n",
    "sorted_numbers = sorted(numbers)\n",
    "even = lambda a: a % 2 == 0\n",
    "even_numbers = filter(even, sorted_numbers)\n",
    "print(type(even_numbers))"
   ]
  },
  {
   "cell_type": "code",
   "execution_count": 3,
   "id": "39080810",
   "metadata": {},
   "outputs": [
    {
     "ename": "TypeError",
     "evalue": "unsupported operand type(s) for +: 'set' and 'set'",
     "output_type": "error",
     "traceback": [
      "\u001b[1;31m---------------------------------------------------------------------------\u001b[0m",
      "\u001b[1;31mTypeError\u001b[0m                                 Traceback (most recent call last)",
      "Cell \u001b[1;32mIn[3], line 4\u001b[0m\n\u001b[0;32m      2\u001b[0m set2 \u001b[38;5;241m=\u001b[39m {\u001b[38;5;241m82\u001b[39m, \u001b[38;5;241m49\u001b[39m, \u001b[38;5;241m62\u001b[39m}\n\u001b[0;32m      3\u001b[0m set3\u001b[38;5;241m=\u001b[39m{\u001b[38;5;241m99\u001b[39m,\u001b[38;5;241m22\u001b[39m,\u001b[38;5;241m17\u001b[39m}\n\u001b[1;32m----> 4\u001b[0m \u001b[38;5;28mprint\u001b[39m(\u001b[38;5;28mlen\u001b[39m(set1 \u001b[38;5;241m+\u001b[39m set2 \u001b[38;5;241m+\u001b[39m set3))\n",
      "\u001b[1;31mTypeError\u001b[0m: unsupported operand type(s) for +: 'set' and 'set'"
     ]
    }
   ],
   "source": [
    "set1 = {14, 3, 55}\n",
    "set2 = {82, 49, 62}\n",
    "set3={99,22,17}\n",
    "print(len(set1 + set2 + set3))\n"
   ]
  },
  {
   "cell_type": "markdown",
   "id": "e688f704",
   "metadata": {},
   "source": [
    "What keyword is used in Python to raise exceptions?\n",
    "\n",
    "a) raise \n",
    "b) try \n",
    "c) goto \n",
    "d) except\n",
    "\n",
    "\n",
    "Ans: raise"
   ]
  },
  {
   "cell_type": "markdown",
   "id": "3479c405",
   "metadata": {},
   "source": [
    "Which of the following modules need to be imported to handle date time computations in \n",
    "Python?\n",
    "\n",
    "a) timedate\n",
    "b) date\n",
    "c) datetime\n",
    "d) time\n",
    "\n",
    "Ans: datetime\n"
   ]
  },
  {
   "cell_type": "code",
   "execution_count": 5,
   "id": "12b8870a",
   "metadata": {},
   "outputs": [
    {
     "name": "stdout",
     "output_type": "stream",
     "text": [
      "208\n"
     ]
    }
   ],
   "source": [
    "print(4**3 + (7 + 5)**(1 + 1))"
   ]
  },
  {
   "cell_type": "markdown",
   "id": "4105c8c0",
   "metadata": {},
   "source": [
    "Which of the following functions converts date to corresponding time in Python?\n",
    "\n",
    "a) strptime\n",
    "b) strftime\n",
    "c) both a) and b)\n",
    "d) None\n",
    "\n",
    "Ans: strftime"
   ]
  },
  {
   "cell_type": "markdown",
   "id": "91415c28",
   "metadata": {},
   "source": [
    "The python tuple is _____ in nature.\n",
    "\n",
    "a) mutable\n",
    "b)immutable\n",
    "c)unchangeable\n",
    "d) none \n",
    "\n",
    "Ans: immutable"
   ]
  },
  {
   "cell_type": "markdown",
   "id": "50b894a8",
   "metadata": {},
   "source": [
    "The ___ is a built-in function that returns a range object that consists series of integer numbers, which \n",
    "we can iterate using a for loop.\n",
    "\n",
    "A. range()\n",
    "B. set()\n",
    "C. dictionary{}\n",
    "D. None of the mentioned above\n",
    "\n",
    "Ans: range()\n"
   ]
  },
  {
   "cell_type": "markdown",
   "id": "dbb607f0",
   "metadata": {},
   "source": [
    "Amongst which of the following is a function which does not have any name?\n",
    "\n",
    "A. Del function\n",
    "B. Show function\n",
    "C. Lambda function\n",
    "D. None of the mentioned above\n",
    "\n",
    "Ans: Lambda Function\n"
   ]
  },
  {
   "cell_type": "markdown",
   "id": "ab98a077",
   "metadata": {},
   "source": [
    "The module Pickle is used to ___.\n",
    "\n",
    "A. Serializing Python object structure\n",
    "B. De-serializing Python object structure\n",
    "C. Both A and B\n",
    "D. None of the mentioned above\n",
    "\n",
    "Ans: Both A and B "
   ]
  },
  {
   "cell_type": "markdown",
   "id": "fc156b66",
   "metadata": {},
   "source": [
    "Amongst which of the following is / are the method of convert Python objects for writing data in \n",
    "a binary file?\n",
    "\n",
    "A. set() method\n",
    "B. dump() method\n",
    "C. load() method\n",
    "D. None of the mentioned above\n",
    "\n",
    "Ans: dump() method\n"
   ]
  },
  {
   "cell_type": "markdown",
   "id": "8081f119",
   "metadata": {},
   "source": [
    "Amongst which of the following is / are the method used to unpickling data from a binary file?\n",
    "\n",
    "A. load()\n",
    "B. set() method\n",
    "C. dump() method\n",
    "D. None of the mentioned above\n",
    "\n",
    "Ans: None of the mentioned above"
   ]
  },
  {
   "cell_type": "markdown",
   "id": "58c744d6",
   "metadata": {},
   "source": [
    "A text file contains only textual information consisting of ___.\n",
    "\n",
    "A. Alphabets\n",
    "B. Numbers\n",
    "C. Special symbols\n",
    "D. All of the mentioned above\n",
    "\n",
    "Ans: All of the mentioned above"
   ]
  },
  {
   "cell_type": "code",
   "execution_count": 9,
   "id": "435d3e1d",
   "metadata": {},
   "outputs": [
    {
     "name": "stdout",
     "output_type": "stream",
     "text": [
      "Enterprise Picard\n",
      "Voyager Janeway\n",
      "Defiant Sisko\n"
     ]
    }
   ],
   "source": [
    "captains = {\"Enterprise\": \"Picard\", \"Voyager\": \"Janeway\", \"Defiant\": \"Sisko\"}\n",
    "\n",
    "for ship, captain in captains.items():\n",
    "    print(ship, captain)"
   ]
  },
  {
   "cell_type": "markdown",
   "id": "ffb2d573",
   "metadata": {},
   "source": [
    "Which of the following lines of code will create an empty dictionary named captains?\n",
    "\n",
    "a) captains = {dict}\n",
    "b) type(captains)\n",
    "c) captains.dict()\n",
    "d) captains = {}\n",
    "\n",
    "Ans: captains = {}"
   ]
  },
  {
   "cell_type": "code",
   "execution_count": 10,
   "id": "2e3fbbff",
   "metadata": {},
   "outputs": [
    {
     "name": "stdout",
     "output_type": "stream",
     "text": [
      "Enterprise Picard\n",
      "Voyager Janeway\n",
      "Defiant Sisko\n"
     ]
    }
   ],
   "source": [
    "captains = {\"Enterprise\": \"Picard\", \"Voyager\": \"Janeway\", \"Defiant\": \"Sisko\"}\n",
    "\n",
    "# Adding more key-value pairs to the dictionary\n",
    "captains[\"Enterprise\"] = \"Picard\"\n",
    "captains[\"Voyager\"] = \"Janeway\"\n",
    "captains[\"Defiant\"] = \"Sisko\"\n",
    "\n",
    "for ship, captain in captains.items():\n",
    "    print(ship, captain)"
   ]
  },
  {
   "cell_type": "code",
   "execution_count": 11,
   "id": "de61fa2f",
   "metadata": {},
   "outputs": [
    {
     "name": "stdout",
     "output_type": "stream",
     "text": [
      "The Enterprise is captained by Picard.\n",
      "The Voyager is captained by Janeway.\n",
      "The Defiant is captained by Sisko.\n",
      "The Discovery is captained by unknown.\n"
     ]
    }
   ],
   "source": [
    "captains = {\"Enterprise\": \"Picard\",\"Voyager\": \"Janeway\",\"Defiant\": \"Sisko\",\"Discovery\": \"unknown\"}\n",
    "\n",
    "for ship, captain in captains.items():  print(f\"The {ship} is captained by {captain}.\")"
   ]
  },
  {
   "cell_type": "code",
   "execution_count": 12,
   "id": "0e8f71a5",
   "metadata": {},
   "outputs": [
    {
     "name": "stdout",
     "output_type": "stream",
     "text": [
      "{'Enterprise': 'Picard', 'Voyager': 'Janeway', 'Defiant': 'Sisko'}\n"
     ]
    }
   ],
   "source": [
    "captains = { \"Enterprise\": \"Picard\", \"Voyager\": \"Janeway\", \"Defiant\": \"Sisko\", \"Discovery\": \"unknown\"}\n",
    "del captains[\"Discovery\"]\n",
    "print(captains)"
   ]
  },
  {
   "cell_type": "code",
   "execution_count": null,
   "id": "b797eed3",
   "metadata": {},
   "outputs": [],
   "source": []
  }
 ],
 "metadata": {
  "kernelspec": {
   "display_name": "Python 3 (ipykernel)",
   "language": "python",
   "name": "python3"
  },
  "language_info": {
   "codemirror_mode": {
    "name": "ipython",
    "version": 3
   },
   "file_extension": ".py",
   "mimetype": "text/x-python",
   "name": "python",
   "nbconvert_exporter": "python",
   "pygments_lexer": "ipython3",
   "version": "3.11.4"
  }
 },
 "nbformat": 4,
 "nbformat_minor": 5
}
